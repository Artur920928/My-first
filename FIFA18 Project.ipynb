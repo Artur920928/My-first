{
 "cells": [
  {
   "cell_type": "markdown",
   "metadata": {},
   "source": [
    "# FIFA 2018 DATASET ANALYZING\n",
    "```\n",
    "```\n",
    "```\n",
    "```\n",
    "#### Library import"
   ]
  },
  {
   "cell_type": "code",
   "execution_count": 1,
   "metadata": {},
   "outputs": [],
   "source": [
    "import pandas as pd\n",
    "import numpy as np"
   ]
  },
  {
   "cell_type": "markdown",
   "metadata": {},
   "source": [
    "#### Read data"
   ]
  },
  {
   "cell_type": "code",
   "execution_count": 2,
   "metadata": {},
   "outputs": [],
   "source": [
    "FIFA2018 = pd.read_csv(\"C:/Users/artur/Desktop/Project/Data_set.csv\")"
   ]
  },
  {
   "cell_type": "markdown",
   "metadata": {},
   "source": [
    "#### Checking nulls"
   ]
  },
  {
   "cell_type": "code",
   "execution_count": 3,
   "metadata": {},
   "outputs": [
    {
     "data": {
      "text/plain": [
       "(True, (17994, 185))"
      ]
     },
     "execution_count": 3,
     "metadata": {},
     "output_type": "execute_result"
    }
   ],
   "source": [
    "FIFA2018.isnull().any().any(), FIFA2018.shape"
   ]
  },
  {
   "cell_type": "markdown",
   "metadata": {},
   "source": [
    "#### Checking max nulls value"
   ]
  },
  {
   "cell_type": "code",
   "execution_count": 4,
   "metadata": {},
   "outputs": [
    {
     "data": {
      "text/plain": [
       "15973"
      ]
     },
     "execution_count": 4,
     "metadata": {},
     "output_type": "execute_result"
    }
   ],
   "source": [
    "FIFA2018.isnull().sum(axis=0).max()"
   ]
  },
  {
   "cell_type": "markdown",
   "metadata": {},
   "source": [
    "#### Drop columns with large amount of null"
   ]
  },
  {
   "cell_type": "code",
   "execution_count": 5,
   "metadata": {},
   "outputs": [],
   "source": [
    "FIFA2018 = FIFA2018.drop(['rs', 'rw', 'rf', 'ram', 'rcm', 'rm', 'rdm', 'rcb', 'rb', 'rwb', 'st', 'lw', 'cf', 'cam', 'cm', 'lm', 'cdm', 'cb', 'lb', 'lwb', 'ls', 'lf', 'lam', 'lcm', 'ldm', 'lcb', 'gk'], axis=1)"
   ]
  },
  {
   "cell_type": "markdown",
   "metadata": {},
   "source": [
    "#### Checking nulls again"
   ]
  },
  {
   "cell_type": "code",
   "execution_count": 6,
   "metadata": {},
   "outputs": [
    {
     "data": {
      "text/plain": [
       "ID                                 0\n",
       "name                               0\n",
       "full_name                          0\n",
       "club                             253\n",
       "club_logo                        253\n",
       "special                            0\n",
       "age                                0\n",
       "league                           253\n",
       "birth_date                         0\n",
       "height_cm                          0\n",
       "weight_kg                          0\n",
       "body_type                          0\n",
       "real_face                          0\n",
       "flag                               0\n",
       "nationality                        0\n",
       "photo                              0\n",
       "eur_value                          0\n",
       "eur_wage                           0\n",
       "eur_release_clause              1494\n",
       "overall                            0\n",
       "potential                          0\n",
       "pac                                0\n",
       "sho                                0\n",
       "pas                                0\n",
       "dri                                0\n",
       "def                                0\n",
       "phy                                0\n",
       "international_reputation           0\n",
       "skill_moves                        0\n",
       "weak_foot                          0\n",
       "                                ... \n",
       "acrobat_speciality                 0\n",
       "strength_speciality                0\n",
       "clinical_finisher_speciality       0\n",
       "prefers_rs                         0\n",
       "prefers_rw                         0\n",
       "prefers_rf                         0\n",
       "prefers_ram                        0\n",
       "prefers_rcm                        0\n",
       "prefers_rm                         0\n",
       "prefers_rdm                        0\n",
       "prefers_rcb                        0\n",
       "prefers_rb                         0\n",
       "prefers_rwb                        0\n",
       "prefers_st                         0\n",
       "prefers_lw                         0\n",
       "prefers_cf                         0\n",
       "prefers_cam                        0\n",
       "prefers_cm                         0\n",
       "prefers_lm                         0\n",
       "prefers_cdm                        0\n",
       "prefers_cb                         0\n",
       "prefers_lb                         0\n",
       "prefers_lwb                        0\n",
       "prefers_ls                         0\n",
       "prefers_lf                         0\n",
       "prefers_lam                        0\n",
       "prefers_lcm                        0\n",
       "prefers_ldm                        0\n",
       "prefers_lcb                        0\n",
       "prefers_gk                         0\n",
       "Length: 158, dtype: int64"
      ]
     },
     "execution_count": 6,
     "metadata": {},
     "output_type": "execute_result"
    }
   ],
   "source": [
    "FIFA2018.isnull().sum(axis=0)"
   ]
  },
  {
   "cell_type": "markdown",
   "metadata": {},
   "source": [
    "#### Drop 'eur_release_clause' column"
   ]
  },
  {
   "cell_type": "code",
   "execution_count": 7,
   "metadata": {},
   "outputs": [],
   "source": [
    "FIFA2018 = FIFA2018.drop(['eur_release_clause'], axis=1)"
   ]
  },
  {
   "cell_type": "markdown",
   "metadata": {},
   "source": [
    "#### Drop all nulls"
   ]
  },
  {
   "cell_type": "code",
   "execution_count": 8,
   "metadata": {},
   "outputs": [],
   "source": [
    "FIFA2018= FIFA2018.dropna()"
   ]
  },
  {
   "cell_type": "markdown",
   "metadata": {},
   "source": [
    "#### Proof that dataframe is without null"
   ]
  },
  {
   "cell_type": "code",
   "execution_count": 9,
   "metadata": {},
   "outputs": [
    {
     "data": {
      "text/plain": [
       "(False, (17741, 157))"
      ]
     },
     "execution_count": 9,
     "metadata": {},
     "output_type": "execute_result"
    }
   ],
   "source": [
    "FIFA2018.isnull().any().any(), FIFA2018.shape"
   ]
  },
  {
   "cell_type": "markdown",
   "metadata": {},
   "source": [
    "### Some statistics\n",
    "\n",
    "####  For me, interesting is eur_wage column just in case of quartiles - 50% players wage is less than or equal to 4000 and 75% players wage is less than or equal to 12000 while max wage is 565000. It means that this column is very asymmetric"
   ]
  },
  {
   "cell_type": "code",
   "execution_count": 10,
   "metadata": {},
   "outputs": [
    {
     "data": {
      "text/html": [
       "<div>\n",
       "<style scoped>\n",
       "    .dataframe tbody tr th:only-of-type {\n",
       "        vertical-align: middle;\n",
       "    }\n",
       "\n",
       "    .dataframe tbody tr th {\n",
       "        vertical-align: top;\n",
       "    }\n",
       "\n",
       "    .dataframe thead th {\n",
       "        text-align: right;\n",
       "    }\n",
       "</style>\n",
       "<table border=\"1\" class=\"dataframe\">\n",
       "  <thead>\n",
       "    <tr style=\"text-align: right;\">\n",
       "      <th></th>\n",
       "      <th>ID</th>\n",
       "      <th>special</th>\n",
       "      <th>age</th>\n",
       "      <th>height_cm</th>\n",
       "      <th>weight_kg</th>\n",
       "      <th>eur_value</th>\n",
       "      <th>eur_wage</th>\n",
       "      <th>overall</th>\n",
       "      <th>potential</th>\n",
       "      <th>pac</th>\n",
       "      <th>...</th>\n",
       "      <th>penalties</th>\n",
       "      <th>composure</th>\n",
       "      <th>marking</th>\n",
       "      <th>standing_tackle</th>\n",
       "      <th>sliding_tackle</th>\n",
       "      <th>gk_diving</th>\n",
       "      <th>gk_handling</th>\n",
       "      <th>gk_kicking</th>\n",
       "      <th>gk_positioning</th>\n",
       "      <th>gk_reflexes</th>\n",
       "    </tr>\n",
       "  </thead>\n",
       "  <tbody>\n",
       "    <tr>\n",
       "      <th>count</th>\n",
       "      <td>17741.000000</td>\n",
       "      <td>17741.000000</td>\n",
       "      <td>17741.000000</td>\n",
       "      <td>17741.000000</td>\n",
       "      <td>17741.000000</td>\n",
       "      <td>1.774100e+04</td>\n",
       "      <td>17741.000000</td>\n",
       "      <td>17741.000000</td>\n",
       "      <td>17741.000000</td>\n",
       "      <td>17741.000000</td>\n",
       "      <td>...</td>\n",
       "      <td>17741.000000</td>\n",
       "      <td>17741.000000</td>\n",
       "      <td>17741.000000</td>\n",
       "      <td>17741.000000</td>\n",
       "      <td>17741.000000</td>\n",
       "      <td>17741.000000</td>\n",
       "      <td>17741.000000</td>\n",
       "      <td>17741.000000</td>\n",
       "      <td>17741.000000</td>\n",
       "      <td>17741.000000</td>\n",
       "    </tr>\n",
       "    <tr>\n",
       "      <th>mean</th>\n",
       "      <td>207756.835522</td>\n",
       "      <td>1594.596133</td>\n",
       "      <td>25.088552</td>\n",
       "      <td>181.277944</td>\n",
       "      <td>75.397103</td>\n",
       "      <td>2.404317e+06</td>\n",
       "      <td>11667.887943</td>\n",
       "      <td>66.237134</td>\n",
       "      <td>71.217462</td>\n",
       "      <td>67.728144</td>\n",
       "      <td>...</td>\n",
       "      <td>48.984837</td>\n",
       "      <td>57.922327</td>\n",
       "      <td>44.097063</td>\n",
       "      <td>47.465081</td>\n",
       "      <td>45.579054</td>\n",
       "      <td>16.663886</td>\n",
       "      <td>16.446987</td>\n",
       "      <td>16.322304</td>\n",
       "      <td>16.435263</td>\n",
       "      <td>16.802210</td>\n",
       "    </tr>\n",
       "    <tr>\n",
       "      <th>std</th>\n",
       "      <td>32421.331072</td>\n",
       "      <td>271.489781</td>\n",
       "      <td>4.616413</td>\n",
       "      <td>6.692701</td>\n",
       "      <td>6.993980</td>\n",
       "      <td>5.377693e+06</td>\n",
       "      <td>23173.181633</td>\n",
       "      <td>6.960273</td>\n",
       "      <td>6.084166</td>\n",
       "      <td>10.964373</td>\n",
       "      <td>...</td>\n",
       "      <td>15.774934</td>\n",
       "      <td>12.873242</td>\n",
       "      <td>21.563243</td>\n",
       "      <td>21.814726</td>\n",
       "      <td>21.468346</td>\n",
       "      <td>17.705665</td>\n",
       "      <td>16.929550</td>\n",
       "      <td>16.520619</td>\n",
       "      <td>17.033767</td>\n",
       "      <td>17.997396</td>\n",
       "    </tr>\n",
       "    <tr>\n",
       "      <th>min</th>\n",
       "      <td>16.000000</td>\n",
       "      <td>728.000000</td>\n",
       "      <td>16.000000</td>\n",
       "      <td>155.000000</td>\n",
       "      <td>49.000000</td>\n",
       "      <td>0.000000e+00</td>\n",
       "      <td>1000.000000</td>\n",
       "      <td>46.000000</td>\n",
       "      <td>46.000000</td>\n",
       "      <td>21.000000</td>\n",
       "      <td>...</td>\n",
       "      <td>5.000000</td>\n",
       "      <td>5.000000</td>\n",
       "      <td>4.000000</td>\n",
       "      <td>4.000000</td>\n",
       "      <td>4.000000</td>\n",
       "      <td>1.000000</td>\n",
       "      <td>1.000000</td>\n",
       "      <td>1.000000</td>\n",
       "      <td>1.000000</td>\n",
       "      <td>1.000000</td>\n",
       "    </tr>\n",
       "    <tr>\n",
       "      <th>25%</th>\n",
       "      <td>192621.000000</td>\n",
       "      <td>1451.000000</td>\n",
       "      <td>21.000000</td>\n",
       "      <td>177.000000</td>\n",
       "      <td>70.000000</td>\n",
       "      <td>3.250000e+05</td>\n",
       "      <td>2000.000000</td>\n",
       "      <td>62.000000</td>\n",
       "      <td>67.000000</td>\n",
       "      <td>61.000000</td>\n",
       "      <td>...</td>\n",
       "      <td>39.000000</td>\n",
       "      <td>51.000000</td>\n",
       "      <td>22.000000</td>\n",
       "      <td>26.000000</td>\n",
       "      <td>24.000000</td>\n",
       "      <td>8.000000</td>\n",
       "      <td>8.000000</td>\n",
       "      <td>8.000000</td>\n",
       "      <td>8.000000</td>\n",
       "      <td>8.000000</td>\n",
       "    </tr>\n",
       "    <tr>\n",
       "      <th>50%</th>\n",
       "      <td>214175.000000</td>\n",
       "      <td>1634.000000</td>\n",
       "      <td>25.000000</td>\n",
       "      <td>181.000000</td>\n",
       "      <td>75.000000</td>\n",
       "      <td>7.000000e+05</td>\n",
       "      <td>4000.000000</td>\n",
       "      <td>66.000000</td>\n",
       "      <td>71.000000</td>\n",
       "      <td>68.000000</td>\n",
       "      <td>...</td>\n",
       "      <td>50.000000</td>\n",
       "      <td>60.000000</td>\n",
       "      <td>48.000000</td>\n",
       "      <td>54.000000</td>\n",
       "      <td>52.000000</td>\n",
       "      <td>11.000000</td>\n",
       "      <td>11.000000</td>\n",
       "      <td>11.000000</td>\n",
       "      <td>11.000000</td>\n",
       "      <td>11.000000</td>\n",
       "    </tr>\n",
       "    <tr>\n",
       "      <th>75%</th>\n",
       "      <td>231624.000000</td>\n",
       "      <td>1785.000000</td>\n",
       "      <td>28.000000</td>\n",
       "      <td>186.000000</td>\n",
       "      <td>80.000000</td>\n",
       "      <td>2.100000e+06</td>\n",
       "      <td>12000.000000</td>\n",
       "      <td>71.000000</td>\n",
       "      <td>75.000000</td>\n",
       "      <td>75.000000</td>\n",
       "      <td>...</td>\n",
       "      <td>61.000000</td>\n",
       "      <td>67.000000</td>\n",
       "      <td>63.000000</td>\n",
       "      <td>66.000000</td>\n",
       "      <td>64.000000</td>\n",
       "      <td>14.000000</td>\n",
       "      <td>14.000000</td>\n",
       "      <td>14.000000</td>\n",
       "      <td>14.000000</td>\n",
       "      <td>14.000000</td>\n",
       "    </tr>\n",
       "    <tr>\n",
       "      <th>max</th>\n",
       "      <td>241489.000000</td>\n",
       "      <td>2291.000000</td>\n",
       "      <td>47.000000</td>\n",
       "      <td>205.000000</td>\n",
       "      <td>110.000000</td>\n",
       "      <td>1.230000e+08</td>\n",
       "      <td>565000.000000</td>\n",
       "      <td>94.000000</td>\n",
       "      <td>94.000000</td>\n",
       "      <td>96.000000</td>\n",
       "      <td>...</td>\n",
       "      <td>92.000000</td>\n",
       "      <td>96.000000</td>\n",
       "      <td>92.000000</td>\n",
       "      <td>92.000000</td>\n",
       "      <td>91.000000</td>\n",
       "      <td>91.000000</td>\n",
       "      <td>91.000000</td>\n",
       "      <td>95.000000</td>\n",
       "      <td>91.000000</td>\n",
       "      <td>90.000000</td>\n",
       "    </tr>\n",
       "  </tbody>\n",
       "</table>\n",
       "<p>8 rows × 52 columns</p>\n",
       "</div>"
      ],
      "text/plain": [
       "                  ID       special           age     height_cm     weight_kg  \\\n",
       "count   17741.000000  17741.000000  17741.000000  17741.000000  17741.000000   \n",
       "mean   207756.835522   1594.596133     25.088552    181.277944     75.397103   \n",
       "std     32421.331072    271.489781      4.616413      6.692701      6.993980   \n",
       "min        16.000000    728.000000     16.000000    155.000000     49.000000   \n",
       "25%    192621.000000   1451.000000     21.000000    177.000000     70.000000   \n",
       "50%    214175.000000   1634.000000     25.000000    181.000000     75.000000   \n",
       "75%    231624.000000   1785.000000     28.000000    186.000000     80.000000   \n",
       "max    241489.000000   2291.000000     47.000000    205.000000    110.000000   \n",
       "\n",
       "          eur_value       eur_wage       overall     potential           pac  \\\n",
       "count  1.774100e+04   17741.000000  17741.000000  17741.000000  17741.000000   \n",
       "mean   2.404317e+06   11667.887943     66.237134     71.217462     67.728144   \n",
       "std    5.377693e+06   23173.181633      6.960273      6.084166     10.964373   \n",
       "min    0.000000e+00    1000.000000     46.000000     46.000000     21.000000   \n",
       "25%    3.250000e+05    2000.000000     62.000000     67.000000     61.000000   \n",
       "50%    7.000000e+05    4000.000000     66.000000     71.000000     68.000000   \n",
       "75%    2.100000e+06   12000.000000     71.000000     75.000000     75.000000   \n",
       "max    1.230000e+08  565000.000000     94.000000     94.000000     96.000000   \n",
       "\n",
       "           ...          penalties     composure       marking  \\\n",
       "count      ...       17741.000000  17741.000000  17741.000000   \n",
       "mean       ...          48.984837     57.922327     44.097063   \n",
       "std        ...          15.774934     12.873242     21.563243   \n",
       "min        ...           5.000000      5.000000      4.000000   \n",
       "25%        ...          39.000000     51.000000     22.000000   \n",
       "50%        ...          50.000000     60.000000     48.000000   \n",
       "75%        ...          61.000000     67.000000     63.000000   \n",
       "max        ...          92.000000     96.000000     92.000000   \n",
       "\n",
       "       standing_tackle  sliding_tackle     gk_diving   gk_handling  \\\n",
       "count     17741.000000    17741.000000  17741.000000  17741.000000   \n",
       "mean         47.465081       45.579054     16.663886     16.446987   \n",
       "std          21.814726       21.468346     17.705665     16.929550   \n",
       "min           4.000000        4.000000      1.000000      1.000000   \n",
       "25%          26.000000       24.000000      8.000000      8.000000   \n",
       "50%          54.000000       52.000000     11.000000     11.000000   \n",
       "75%          66.000000       64.000000     14.000000     14.000000   \n",
       "max          92.000000       91.000000     91.000000     91.000000   \n",
       "\n",
       "         gk_kicking  gk_positioning   gk_reflexes  \n",
       "count  17741.000000    17741.000000  17741.000000  \n",
       "mean      16.322304       16.435263     16.802210  \n",
       "std       16.520619       17.033767     17.997396  \n",
       "min        1.000000        1.000000      1.000000  \n",
       "25%        8.000000        8.000000      8.000000  \n",
       "50%       11.000000       11.000000     11.000000  \n",
       "75%       14.000000       14.000000     14.000000  \n",
       "max       95.000000       91.000000     90.000000  \n",
       "\n",
       "[8 rows x 52 columns]"
      ]
     },
     "execution_count": 10,
     "metadata": {},
     "output_type": "execute_result"
    }
   ],
   "source": [
    "FIFA2018.describe()"
   ]
  },
  {
   "cell_type": "markdown",
   "metadata": {},
   "source": [
    "#### Creating a list to correlate"
   ]
  },
  {
   "cell_type": "code",
   "execution_count": 11,
   "metadata": {},
   "outputs": [],
   "source": [
    "cor_dataset = ['age', 'height_cm', 'weight_kg', 'overall', 'potential']"
   ]
  },
  {
   "cell_type": "markdown",
   "metadata": {},
   "source": [
    "### Now i would like to know more statistical curiosities\n",
    "\n",
    "\n",
    "#### Loop checking correlation between Player value and chosen variables"
   ]
  },
  {
   "cell_type": "code",
   "execution_count": 12,
   "metadata": {},
   "outputs": [
    {
     "name": "stdout",
     "output_type": "stream",
     "text": [
      "age: 0.084194\n",
      "height_cm: 0.002254\n",
      "weight_kg: 0.037482\n",
      "overall: 0.629889\n",
      "potential: 0.587715\n"
     ]
    }
   ],
   "source": [
    "for i in cor_dataset:\n",
    "    related = FIFA2018['eur_value'].corr(FIFA2018[i])\n",
    "    print(\"%s: %f\" % (i,related))"
   ]
  },
  {
   "cell_type": "markdown",
   "metadata": {},
   "source": [
    "#### Loop checking correlation between Player wage and chosen variables"
   ]
  },
  {
   "cell_type": "code",
   "execution_count": 13,
   "metadata": {},
   "outputs": [
    {
     "name": "stdout",
     "output_type": "stream",
     "text": [
      "age: 0.155772\n",
      "height_cm: 0.020513\n",
      "weight_kg: 0.060079\n",
      "overall: 0.599680\n",
      "potential: 0.519599\n"
     ]
    }
   ],
   "source": [
    "for i in cor_dataset:\n",
    "    related = FIFA2018['eur_wage'].corr(FIFA2018[i])\n",
    "    print(\"%s: %f\" % (i, related))"
   ]
  },
  {
   "cell_type": "markdown",
   "metadata": {},
   "source": [
    "#### There is no surprise. We can see medium-high correlation between values like overall or potential and wage/value(the better you are or higher potential you have will be the more you earn / the more you are worth) and almost 0 correlation between heigh or weight and wage/value(you can be amazing, high goalkeeper and earn a lot or very skillful, short midfielder and also earn a lot - that's why). But what about age? This can be a little bit surprising so...let's do an experiment"
   ]
  },
  {
   "cell_type": "markdown",
   "metadata": {},
   "source": [
    "#   "
   ]
  },
  {
   "cell_type": "markdown",
   "metadata": {},
   "source": [
    "### I think if i share my dataset to young (before 30 YO) and old (after 30 YO) players then we can see a real age-to-value/wage impact"
   ]
  },
  {
   "cell_type": "code",
   "execution_count": 14,
   "metadata": {},
   "outputs": [],
   "source": [
    "young = FIFA2018[FIFA2018.age <= 30]\n",
    "old = FIFA2018[FIFA2018.age > 30]"
   ]
  },
  {
   "cell_type": "markdown",
   "metadata": {},
   "source": [
    "#### Loop checking correlation between young Player wage and chosen variables"
   ]
  },
  {
   "cell_type": "code",
   "execution_count": 15,
   "metadata": {},
   "outputs": [
    {
     "name": "stdout",
     "output_type": "stream",
     "text": [
      "age: 0.211672\n",
      "height_cm: 0.016770\n",
      "weight_kg: 0.059716\n",
      "overall: 0.606458\n",
      "potential: 0.515038\n"
     ]
    }
   ],
   "source": [
    "for i in cor_dataset:\n",
    "    related = young['eur_wage'].corr(young[i])\n",
    "    print(\"%s: %f\" % (i, related))"
   ]
  },
  {
   "cell_type": "markdown",
   "metadata": {},
   "source": [
    "#### Loop checking correlation between old Player wage and chosen variables"
   ]
  },
  {
   "cell_type": "code",
   "execution_count": 16,
   "metadata": {},
   "outputs": [
    {
     "name": "stdout",
     "output_type": "stream",
     "text": [
      "age: -0.105464\n",
      "height_cm: 0.031677\n",
      "weight_kg: 0.037124\n",
      "overall: 0.617977\n",
      "potential: 0.617977\n"
     ]
    }
   ],
   "source": [
    "for i in cor_dataset:\n",
    "    related = old['eur_wage'].corr(old[i])\n",
    "    print(\"%s: %f\" % (i, related))"
   ]
  },
  {
   "cell_type": "markdown",
   "metadata": {},
   "source": [
    "#### Loop checking correlation between young Player value and chosen variables"
   ]
  },
  {
   "cell_type": "code",
   "execution_count": 17,
   "metadata": {},
   "outputs": [
    {
     "name": "stdout",
     "output_type": "stream",
     "text": [
      "age: 0.170017\n",
      "height_cm: 0.001145\n",
      "weight_kg: 0.045254\n",
      "overall: 0.648071\n",
      "potential: 0.583303\n"
     ]
    }
   ],
   "source": [
    "for i in cor_dataset:\n",
    "    related = young['eur_value'].corr(young[i])\n",
    "    print(\"%s: %f\" % (i, related))"
   ]
  },
  {
   "cell_type": "markdown",
   "metadata": {},
   "source": [
    "#### Loop checking correlation between old Player value and chosen variables"
   ]
  },
  {
   "cell_type": "code",
   "execution_count": 18,
   "metadata": {},
   "outputs": [
    {
     "name": "stdout",
     "output_type": "stream",
     "text": [
      "age: -0.178668\n",
      "height_cm: 0.022457\n",
      "weight_kg: 0.016008\n",
      "overall: 0.635670\n",
      "potential: 0.635670\n"
     ]
    }
   ],
   "source": [
    "for i in cor_dataset:\n",
    "    related = old['eur_value'].corr(old[i])\n",
    "    print(\"%s: %f\" % (i, related))"
   ]
  },
  {
   "cell_type": "markdown",
   "metadata": {},
   "source": [
    "#### Well, I was right. It's very understood that if you're a young player every year in football makes you more skillful, experienced. Simply you are just better player so this is reflected in the salary. And the other side - football players usually retire at ~35 years old, so after 30 YO they are propably get worse - they lose speed, strengh and stamina. This is also answer why usually the oldest players are goalkeepers - they don't need those factors as much as footballers at other position."
   ]
  },
  {
   "cell_type": "markdown",
   "metadata": {},
   "source": [
    "#   "
   ]
  },
  {
   "cell_type": "markdown",
   "metadata": {},
   "source": [
    "### There is one more thing i want to check in my correlation experiment. Let's add new column with info if Player plays in one of the best league"
   ]
  },
  {
   "cell_type": "code",
   "execution_count": 19,
   "metadata": {},
   "outputs": [],
   "source": [
    "for i in FIFA2018.index:\n",
    "    if FIFA2018.loc[i,'league'] =='Spanish Primera División':\n",
    "        FIFA2018.loc[i,'Big_league_or_not'] = 1\n",
    "    elif FIFA2018.loc[i,'league'] == 'French Ligue 1':\n",
    "        FIFA2018.loc[i,'Big_league_or_not'] = 1\n",
    "    elif FIFA2018.loc[i,'league'] =='German Bundesliga':\n",
    "        FIFA2018.loc[i,'Big_league_or_not'] = 1\n",
    "    elif FIFA2018.loc[i,'league'] == 'English Premier League':\n",
    "        FIFA2018.loc[i,'Big_league_or_not'] = 1\n",
    "    elif FIFA2018.loc[i,'league'] == 'Italian Serie A':\n",
    "        FIFA2018.loc[i,'Big_league_or_not'] = 1\n",
    "    else:\n",
    "        FIFA2018.loc[i,'Big_league_or_not'] = 0"
   ]
  },
  {
   "cell_type": "markdown",
   "metadata": {},
   "source": [
    "#### Yes, You probably guessed it - it has an impact"
   ]
  },
  {
   "cell_type": "code",
   "execution_count": 20,
   "metadata": {},
   "outputs": [
    {
     "name": "stdout",
     "output_type": "stream",
     "text": [
      "Wage: 0.486842\n",
      "Value: 0.443080\n"
     ]
    }
   ],
   "source": [
    "x1=FIFA2018['eur_wage'].corr(FIFA2018['Big_league_or_not'])\n",
    "x2=FIFA2018['eur_value'].corr(FIFA2018['Big_league_or_not'])\n",
    "print(\"%s: %f\" % ('Wage', x1))\n",
    "print(\"%s: %f\" % ('Value', x2))"
   ]
  },
  {
   "cell_type": "markdown",
   "metadata": {},
   "source": [
    "### Another case now - i want to build a usefull function which let chose any player and return amount of players(sorted from cheapest to most expensive) which you can buy at the price of selected player."
   ]
  },
  {
   "cell_type": "markdown",
   "metadata": {},
   "source": [
    "#### Changing chosen columns to lists"
   ]
  },
  {
   "cell_type": "code",
   "execution_count": 21,
   "metadata": {},
   "outputs": [],
   "source": [
    "s = list(FIFA2018['name'])\n",
    "p = list(FIFA2018['eur_value'])"
   ]
  },
  {
   "cell_type": "markdown",
   "metadata": {},
   "source": [
    "#### Creating dictionary to connect player name with his value"
   ]
  },
  {
   "cell_type": "code",
   "execution_count": 22,
   "metadata": {},
   "outputs": [],
   "source": [
    "dicts = {}\n",
    "col = FIFA2018['name']\n",
    "for i in col.index:\n",
    "    for j in col:\n",
    "        if j not in dicts.keys():\n",
    "            dicts[j] = p[i]\n",
    "            i = i + 1"
   ]
  },
  {
   "cell_type": "markdown",
   "metadata": {},
   "source": [
    "#### Checking"
   ]
  },
  {
   "cell_type": "code",
   "execution_count": 23,
   "metadata": {},
   "outputs": [
    {
     "data": {
      "text/plain": [
       "123000000.0"
      ]
     },
     "execution_count": 23,
     "metadata": {},
     "output_type": "execute_result"
    }
   ],
   "source": [
    "dicts['Neymar']"
   ]
  },
  {
   "cell_type": "markdown",
   "metadata": {},
   "source": [
    "#### Sort dataset by value"
   ]
  },
  {
   "cell_type": "code",
   "execution_count": 24,
   "metadata": {},
   "outputs": [],
   "source": [
    "FIFA2018 = FIFA2018.sort_values(by=['eur_value'])"
   ]
  },
  {
   "cell_type": "markdown",
   "metadata": {},
   "source": [
    "#### First 10 rows just to check"
   ]
  },
  {
   "cell_type": "code",
   "execution_count": 25,
   "metadata": {},
   "outputs": [
    {
     "data": {
      "text/plain": [
       "3105         0.0\n",
       "17990        0.0\n",
       "2199         0.0\n",
       "17628        0.0\n",
       "7734         0.0\n",
       "3272         0.0\n",
       "16007    10000.0\n",
       "17598    10000.0\n",
       "17553    10000.0\n",
       "16366    10000.0\n",
       "Name: eur_value, dtype: float64"
      ]
     },
     "execution_count": 25,
     "metadata": {},
     "output_type": "execute_result"
    }
   ],
   "source": [
    "FIFA2018['eur_value'].head(10)"
   ]
  },
  {
   "cell_type": "markdown",
   "metadata": {},
   "source": [
    "#### Players with value = 0 are useless to my calculations it's good idea to drop them out"
   ]
  },
  {
   "cell_type": "code",
   "execution_count": 26,
   "metadata": {},
   "outputs": [],
   "source": [
    "FIFA2018 = FIFA2018.drop([3105, 17990, 2199, 17628, 7734, 3272], axis=0)"
   ]
  },
  {
   "cell_type": "markdown",
   "metadata": {},
   "source": [
    "#### Function"
   ]
  },
  {
   "cell_type": "code",
   "execution_count": 27,
   "metadata": {},
   "outputs": [],
   "source": [
    "def f1(data, d):\n",
    "    selector = (FIFA2018['eur_value'].cumsum() <= d)\n",
    "    num_afforded_players = len(FIFA2018[selector])\n",
    "    return num_afforded_players"
   ]
  },
  {
   "cell_type": "markdown",
   "metadata": {},
   "source": [
    "#### So, python says that for 1 Cristiano Ronaldo we can buy 1238 other players(sorted ascending by value). Impresive!"
   ]
  },
  {
   "cell_type": "code",
   "execution_count": 28,
   "metadata": {},
   "outputs": [
    {
     "data": {
      "text/plain": [
       "1238"
      ]
     },
     "execution_count": 28,
     "metadata": {},
     "output_type": "execute_result"
    }
   ],
   "source": [
    "f1(FIFA2018, dicts['Cristiano Ronaldo'])"
   ]
  },
  {
   "cell_type": "markdown",
   "metadata": {},
   "source": [
    "### Here is another case. First let's sum wages grouped by league"
   ]
  },
  {
   "cell_type": "code",
   "execution_count": 29,
   "metadata": {},
   "outputs": [],
   "source": [
    "wage_per_league = FIFA2018.groupby('league')['league','eur_wage'].sum()"
   ]
  },
  {
   "cell_type": "markdown",
   "metadata": {},
   "source": [
    "#### This part of code show us sum of TOP 10 wages in FIFA18"
   ]
  },
  {
   "cell_type": "code",
   "execution_count": 30,
   "metadata": {},
   "outputs": [],
   "source": [
    "v = FIFA2018.sort_values(by='eur_wage', ascending=False).head(10).eur_wage.sum()"
   ]
  },
  {
   "cell_type": "markdown",
   "metadata": {},
   "source": [
    "#### We need to sort data by eur_wage ascending to do next step"
   ]
  },
  {
   "cell_type": "code",
   "execution_count": 31,
   "metadata": {},
   "outputs": [],
   "source": [
    "wage_per_league = wage_per_league.sort_values(by='eur_wage')"
   ]
  },
  {
   "cell_type": "markdown",
   "metadata": {},
   "source": [
    "#### This part od code tells us that wages TOP10 players are enough to pay wage to all players from the 10 poorest leagues in the world. This is amazing and sad at the same time."
   ]
  },
  {
   "cell_type": "code",
   "execution_count": 32,
   "metadata": {},
   "outputs": [
    {
     "name": "stdout",
     "output_type": "stream",
     "text": [
      "10\n"
     ]
    }
   ],
   "source": [
    "selector = (wage_per_league['eur_wage'].cumsum() <= v)\n",
    "num_of_leagues = len(wage_per_league[selector])\n",
    "print(num_of_leagues)"
   ]
  },
  {
   "cell_type": "markdown",
   "metadata": {},
   "source": [
    "#### What about the proof? Look below"
   ]
  },
  {
   "cell_type": "code",
   "execution_count": 33,
   "metadata": {},
   "outputs": [
    {
     "data": {
      "text/plain": [
       "True"
      ]
     },
     "execution_count": 33,
     "metadata": {},
     "output_type": "execute_result"
    }
   ],
   "source": [
    "FIFA2018.sort_values(by='eur_wage', ascending=False).head(10).eur_wage.sum() > wage_per_league.head(10).eur_wage.sum()"
   ]
  },
  {
   "cell_type": "markdown",
   "metadata": {},
   "source": [
    "## Did you like previous fact? Let's do something similar\n",
    "\n",
    "#### First, we need sum of Players wages group by club in Spanish Primera División"
   ]
  },
  {
   "cell_type": "code",
   "execution_count": 34,
   "metadata": {},
   "outputs": [],
   "source": [
    "wage_per_club_esp = FIFA2018[FIFA2018.league == 'Spanish Primera División'].groupby('club')['club','eur_wage'].sum()"
   ]
  },
  {
   "cell_type": "markdown",
   "metadata": {},
   "source": [
    "#### Then sort ascending"
   ]
  },
  {
   "cell_type": "code",
   "execution_count": 35,
   "metadata": {},
   "outputs": [],
   "source": [
    "wage_per_club_esp = wage_per_club_esp.sort_values(by='eur_wage')"
   ]
  },
  {
   "cell_type": "markdown",
   "metadata": {},
   "source": [
    "#### Let's take 2 clubs which spend the most for wages"
   ]
  },
  {
   "cell_type": "code",
   "execution_count": 36,
   "metadata": {},
   "outputs": [],
   "source": [
    "Big_2_esp = wage_per_club_esp.iloc[[-1,-2],0]"
   ]
  },
  {
   "cell_type": "markdown",
   "metadata": {},
   "source": [
    "#### No surprise - it's Real and Barca"
   ]
  },
  {
   "cell_type": "code",
   "execution_count": 37,
   "metadata": {},
   "outputs": [
    {
     "data": {
      "text/plain": [
       "club\n",
       "Real Madrid CF    4783000.0\n",
       "FC Barcelona      4672000.0\n",
       "Name: eur_wage, dtype: float64"
      ]
     },
     "execution_count": 37,
     "metadata": {},
     "output_type": "execute_result"
    }
   ],
   "source": [
    "Big_2_esp"
   ]
  },
  {
   "cell_type": "markdown",
   "metadata": {},
   "source": [
    "#### Sum Real and Barca wages"
   ]
  },
  {
   "cell_type": "code",
   "execution_count": 38,
   "metadata": {},
   "outputs": [],
   "source": [
    "Big_2_esp = Big_2_esp.sum()"
   ]
  },
  {
   "cell_type": "markdown",
   "metadata": {},
   "source": [
    "### Finally! Sum of wages in Real&Barca let us pay sum of wages in 15 LaLiga clubs. It shows huge diversity."
   ]
  },
  {
   "cell_type": "code",
   "execution_count": 39,
   "metadata": {},
   "outputs": [
    {
     "name": "stdout",
     "output_type": "stream",
     "text": [
      "15\n"
     ]
    }
   ],
   "source": [
    "selector = (wage_per_club_esp['eur_wage'].cumsum() <= Big_2_esp)\n",
    "num_of_clubs = len(wage_per_club_esp[selector])\n",
    "print(num_of_clubs)"
   ]
  },
  {
   "cell_type": "markdown",
   "metadata": {},
   "source": [
    "## Let's do the same in the English Premier League - i guess it's more competitive"
   ]
  },
  {
   "cell_type": "code",
   "execution_count": 40,
   "metadata": {},
   "outputs": [],
   "source": [
    "wage_per_club_eng = FIFA2018[FIFA2018.league == 'English Premier League'].groupby('club')['club', 'eur_wage'].sum()"
   ]
  },
  {
   "cell_type": "code",
   "execution_count": 41,
   "metadata": {},
   "outputs": [],
   "source": [
    "wage_per_club_eng = wage_per_club_eng.sort_values(by='eur_wage')"
   ]
  },
  {
   "cell_type": "code",
   "execution_count": 42,
   "metadata": {},
   "outputs": [],
   "source": [
    "Big_2_eng = wage_per_club_eng.iloc[[-1,-2], 0]"
   ]
  },
  {
   "cell_type": "code",
   "execution_count": 43,
   "metadata": {},
   "outputs": [
    {
     "data": {
      "text/plain": [
       "club\n",
       "Manchester United    3598000.0\n",
       "Chelsea              3471000.0\n",
       "Name: eur_wage, dtype: float64"
      ]
     },
     "execution_count": 43,
     "metadata": {},
     "output_type": "execute_result"
    }
   ],
   "source": [
    "Big_2_eng"
   ]
  },
  {
   "cell_type": "code",
   "execution_count": 44,
   "metadata": {},
   "outputs": [],
   "source": [
    "Big_2_eng = Big_2_eng.sum()"
   ]
  },
  {
   "cell_type": "code",
   "execution_count": 45,
   "metadata": {},
   "outputs": [
    {
     "name": "stdout",
     "output_type": "stream",
     "text": [
      "6\n"
     ]
    }
   ],
   "source": [
    "selector = (wage_per_club_eng['eur_wage'].cumsum() <= Big_2_eng)\n",
    "num_of_clubs = len(wage_per_club_eng[selector])\n",
    "print(num_of_clubs)"
   ]
  },
  {
   "cell_type": "markdown",
   "metadata": {},
   "source": [
    "### I was right. English Premier League is very competitive and even ,,poorest\" clubs are really rich comparing to ,,poorest\" club in others leagues. Big difference between England and Spain! "
   ]
  },
  {
   "cell_type": "markdown",
   "metadata": {},
   "source": [
    "## Thanks for your attention. This project is still in progress so i hope to add more curiosities in few days. Thanks!"
   ]
  }
 ],
 "metadata": {
  "kernelspec": {
   "display_name": "Python 3",
   "language": "python",
   "name": "python3"
  },
  "language_info": {
   "codemirror_mode": {
    "name": "ipython",
    "version": 3
   },
   "file_extension": ".py",
   "mimetype": "text/x-python",
   "name": "python",
   "nbconvert_exporter": "python",
   "pygments_lexer": "ipython3",
   "version": "3.6.4"
  }
 },
 "nbformat": 4,
 "nbformat_minor": 2
}
