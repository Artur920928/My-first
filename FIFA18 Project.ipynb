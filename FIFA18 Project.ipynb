{
 "cells": [
  {
   "cell_type": "code",
   "execution_count": 1,
   "metadata": {},
   "outputs": [],
   "source": [
    "#import\n",
    "import pandas as pd\n",
    "import numpy as np"
   ]
  },
  {
   "cell_type": "code",
   "execution_count": 2,
   "metadata": {},
   "outputs": [],
   "source": [
    "#read data\n",
    "FIFA2018 = pd.read_csv(\"C:/Users/artur/Desktop/Project/Data_set.csv\")"
   ]
  },
  {
   "cell_type": "code",
   "execution_count": 3,
   "metadata": {},
   "outputs": [
    {
     "data": {
      "text/plain": [
       "(True, (17994, 185))"
      ]
     },
     "execution_count": 3,
     "metadata": {},
     "output_type": "execute_result"
    }
   ],
   "source": [
    "#checking nulls\n",
    "FIFA2018.isnull().any().any(), FIFA2018.shape"
   ]
  },
  {
   "cell_type": "code",
   "execution_count": 4,
   "metadata": {},
   "outputs": [
    {
     "data": {
      "text/plain": [
       "15973"
      ]
     },
     "execution_count": 4,
     "metadata": {},
     "output_type": "execute_result"
    }
   ],
   "source": [
    "#checking max nulls value\n",
    "FIFA2018.isnull().sum(axis=0).max()"
   ]
  },
  {
   "cell_type": "code",
   "execution_count": 5,
   "metadata": {},
   "outputs": [],
   "source": [
    "#drop columns with large amount of null\n",
    "FIFA2018 = FIFA2018.drop(['rs', 'rw', 'rf', 'ram', 'rcm', 'rm', 'rdm', 'rcb', 'rb', 'rwb', 'st', 'lw', 'cf', 'cam', 'cm', 'lm', 'cdm', 'cb', 'lb', 'lwb', 'ls', 'lf', 'lam', 'lcm', 'ldm', 'lcb', 'gk'], axis=1)"
   ]
  },
  {
   "cell_type": "code",
   "execution_count": 6,
   "metadata": {},
   "outputs": [
    {
     "data": {
      "text/plain": [
       "ID                                 0\n",
       "name                               0\n",
       "full_name                          0\n",
       "club                             253\n",
       "club_logo                        253\n",
       "special                            0\n",
       "age                                0\n",
       "league                           253\n",
       "birth_date                         0\n",
       "height_cm                          0\n",
       "weight_kg                          0\n",
       "body_type                          0\n",
       "real_face                          0\n",
       "flag                               0\n",
       "nationality                        0\n",
       "photo                              0\n",
       "eur_value                          0\n",
       "eur_wage                           0\n",
       "eur_release_clause              1494\n",
       "overall                            0\n",
       "potential                          0\n",
       "pac                                0\n",
       "sho                                0\n",
       "pas                                0\n",
       "dri                                0\n",
       "def                                0\n",
       "phy                                0\n",
       "international_reputation           0\n",
       "skill_moves                        0\n",
       "weak_foot                          0\n",
       "                                ... \n",
       "acrobat_speciality                 0\n",
       "strength_speciality                0\n",
       "clinical_finisher_speciality       0\n",
       "prefers_rs                         0\n",
       "prefers_rw                         0\n",
       "prefers_rf                         0\n",
       "prefers_ram                        0\n",
       "prefers_rcm                        0\n",
       "prefers_rm                         0\n",
       "prefers_rdm                        0\n",
       "prefers_rcb                        0\n",
       "prefers_rb                         0\n",
       "prefers_rwb                        0\n",
       "prefers_st                         0\n",
       "prefers_lw                         0\n",
       "prefers_cf                         0\n",
       "prefers_cam                        0\n",
       "prefers_cm                         0\n",
       "prefers_lm                         0\n",
       "prefers_cdm                        0\n",
       "prefers_cb                         0\n",
       "prefers_lb                         0\n",
       "prefers_lwb                        0\n",
       "prefers_ls                         0\n",
       "prefers_lf                         0\n",
       "prefers_lam                        0\n",
       "prefers_lcm                        0\n",
       "prefers_ldm                        0\n",
       "prefers_lcb                        0\n",
       "prefers_gk                         0\n",
       "Length: 158, dtype: int64"
      ]
     },
     "execution_count": 6,
     "metadata": {},
     "output_type": "execute_result"
    }
   ],
   "source": [
    "#checking nulls again\n",
    "FIFA2018.isnull().sum(axis=0)"
   ]
  },
  {
   "cell_type": "code",
   "execution_count": 7,
   "metadata": {},
   "outputs": [],
   "source": [
    "#drop 'eur_release_clause' column\n",
    "FIFA2018 = FIFA2018.drop(['eur_release_clause'], axis=1)"
   ]
  },
  {
   "cell_type": "code",
   "execution_count": 8,
   "metadata": {},
   "outputs": [],
   "source": [
    "#drop all nulls\n",
    "FIFA2018= FIFA2018.dropna()"
   ]
  },
  {
   "cell_type": "code",
   "execution_count": 9,
   "metadata": {},
   "outputs": [
    {
     "data": {
      "text/plain": [
       "(False, (17741, 157))"
      ]
     },
     "execution_count": 9,
     "metadata": {},
     "output_type": "execute_result"
    }
   ],
   "source": [
    "#proof that dataframe is without nulls\n",
    "FIFA2018.isnull().any().any(), FIFA2018.shape"
   ]
  },
  {
   "cell_type": "code",
   "execution_count": 10,
   "metadata": {},
   "outputs": [
    {
     "data": {
      "text/html": [
       "<div>\n",
       "<style scoped>\n",
       "    .dataframe tbody tr th:only-of-type {\n",
       "        vertical-align: middle;\n",
       "    }\n",
       "\n",
       "    .dataframe tbody tr th {\n",
       "        vertical-align: top;\n",
       "    }\n",
       "\n",
       "    .dataframe thead th {\n",
       "        text-align: right;\n",
       "    }\n",
       "</style>\n",
       "<table border=\"1\" class=\"dataframe\">\n",
       "  <thead>\n",
       "    <tr style=\"text-align: right;\">\n",
       "      <th></th>\n",
       "      <th>ID</th>\n",
       "      <th>special</th>\n",
       "      <th>age</th>\n",
       "      <th>height_cm</th>\n",
       "      <th>weight_kg</th>\n",
       "      <th>eur_value</th>\n",
       "      <th>eur_wage</th>\n",
       "      <th>overall</th>\n",
       "      <th>potential</th>\n",
       "      <th>pac</th>\n",
       "      <th>...</th>\n",
       "      <th>penalties</th>\n",
       "      <th>composure</th>\n",
       "      <th>marking</th>\n",
       "      <th>standing_tackle</th>\n",
       "      <th>sliding_tackle</th>\n",
       "      <th>gk_diving</th>\n",
       "      <th>gk_handling</th>\n",
       "      <th>gk_kicking</th>\n",
       "      <th>gk_positioning</th>\n",
       "      <th>gk_reflexes</th>\n",
       "    </tr>\n",
       "  </thead>\n",
       "  <tbody>\n",
       "    <tr>\n",
       "      <th>count</th>\n",
       "      <td>17741.000000</td>\n",
       "      <td>17741.000000</td>\n",
       "      <td>17741.000000</td>\n",
       "      <td>17741.000000</td>\n",
       "      <td>17741.000000</td>\n",
       "      <td>1.774100e+04</td>\n",
       "      <td>17741.000000</td>\n",
       "      <td>17741.000000</td>\n",
       "      <td>17741.000000</td>\n",
       "      <td>17741.000000</td>\n",
       "      <td>...</td>\n",
       "      <td>17741.000000</td>\n",
       "      <td>17741.000000</td>\n",
       "      <td>17741.000000</td>\n",
       "      <td>17741.000000</td>\n",
       "      <td>17741.000000</td>\n",
       "      <td>17741.000000</td>\n",
       "      <td>17741.000000</td>\n",
       "      <td>17741.000000</td>\n",
       "      <td>17741.000000</td>\n",
       "      <td>17741.000000</td>\n",
       "    </tr>\n",
       "    <tr>\n",
       "      <th>mean</th>\n",
       "      <td>207756.835522</td>\n",
       "      <td>1594.596133</td>\n",
       "      <td>25.088552</td>\n",
       "      <td>181.277944</td>\n",
       "      <td>75.397103</td>\n",
       "      <td>2.404317e+06</td>\n",
       "      <td>11667.887943</td>\n",
       "      <td>66.237134</td>\n",
       "      <td>71.217462</td>\n",
       "      <td>67.728144</td>\n",
       "      <td>...</td>\n",
       "      <td>48.984837</td>\n",
       "      <td>57.922327</td>\n",
       "      <td>44.097063</td>\n",
       "      <td>47.465081</td>\n",
       "      <td>45.579054</td>\n",
       "      <td>16.663886</td>\n",
       "      <td>16.446987</td>\n",
       "      <td>16.322304</td>\n",
       "      <td>16.435263</td>\n",
       "      <td>16.802210</td>\n",
       "    </tr>\n",
       "    <tr>\n",
       "      <th>std</th>\n",
       "      <td>32421.331072</td>\n",
       "      <td>271.489781</td>\n",
       "      <td>4.616413</td>\n",
       "      <td>6.692701</td>\n",
       "      <td>6.993980</td>\n",
       "      <td>5.377693e+06</td>\n",
       "      <td>23173.181633</td>\n",
       "      <td>6.960273</td>\n",
       "      <td>6.084166</td>\n",
       "      <td>10.964373</td>\n",
       "      <td>...</td>\n",
       "      <td>15.774934</td>\n",
       "      <td>12.873242</td>\n",
       "      <td>21.563243</td>\n",
       "      <td>21.814726</td>\n",
       "      <td>21.468346</td>\n",
       "      <td>17.705665</td>\n",
       "      <td>16.929550</td>\n",
       "      <td>16.520619</td>\n",
       "      <td>17.033767</td>\n",
       "      <td>17.997396</td>\n",
       "    </tr>\n",
       "    <tr>\n",
       "      <th>min</th>\n",
       "      <td>16.000000</td>\n",
       "      <td>728.000000</td>\n",
       "      <td>16.000000</td>\n",
       "      <td>155.000000</td>\n",
       "      <td>49.000000</td>\n",
       "      <td>0.000000e+00</td>\n",
       "      <td>1000.000000</td>\n",
       "      <td>46.000000</td>\n",
       "      <td>46.000000</td>\n",
       "      <td>21.000000</td>\n",
       "      <td>...</td>\n",
       "      <td>5.000000</td>\n",
       "      <td>5.000000</td>\n",
       "      <td>4.000000</td>\n",
       "      <td>4.000000</td>\n",
       "      <td>4.000000</td>\n",
       "      <td>1.000000</td>\n",
       "      <td>1.000000</td>\n",
       "      <td>1.000000</td>\n",
       "      <td>1.000000</td>\n",
       "      <td>1.000000</td>\n",
       "    </tr>\n",
       "    <tr>\n",
       "      <th>25%</th>\n",
       "      <td>192621.000000</td>\n",
       "      <td>1451.000000</td>\n",
       "      <td>21.000000</td>\n",
       "      <td>177.000000</td>\n",
       "      <td>70.000000</td>\n",
       "      <td>3.250000e+05</td>\n",
       "      <td>2000.000000</td>\n",
       "      <td>62.000000</td>\n",
       "      <td>67.000000</td>\n",
       "      <td>61.000000</td>\n",
       "      <td>...</td>\n",
       "      <td>39.000000</td>\n",
       "      <td>51.000000</td>\n",
       "      <td>22.000000</td>\n",
       "      <td>26.000000</td>\n",
       "      <td>24.000000</td>\n",
       "      <td>8.000000</td>\n",
       "      <td>8.000000</td>\n",
       "      <td>8.000000</td>\n",
       "      <td>8.000000</td>\n",
       "      <td>8.000000</td>\n",
       "    </tr>\n",
       "    <tr>\n",
       "      <th>50%</th>\n",
       "      <td>214175.000000</td>\n",
       "      <td>1634.000000</td>\n",
       "      <td>25.000000</td>\n",
       "      <td>181.000000</td>\n",
       "      <td>75.000000</td>\n",
       "      <td>7.000000e+05</td>\n",
       "      <td>4000.000000</td>\n",
       "      <td>66.000000</td>\n",
       "      <td>71.000000</td>\n",
       "      <td>68.000000</td>\n",
       "      <td>...</td>\n",
       "      <td>50.000000</td>\n",
       "      <td>60.000000</td>\n",
       "      <td>48.000000</td>\n",
       "      <td>54.000000</td>\n",
       "      <td>52.000000</td>\n",
       "      <td>11.000000</td>\n",
       "      <td>11.000000</td>\n",
       "      <td>11.000000</td>\n",
       "      <td>11.000000</td>\n",
       "      <td>11.000000</td>\n",
       "    </tr>\n",
       "    <tr>\n",
       "      <th>75%</th>\n",
       "      <td>231624.000000</td>\n",
       "      <td>1785.000000</td>\n",
       "      <td>28.000000</td>\n",
       "      <td>186.000000</td>\n",
       "      <td>80.000000</td>\n",
       "      <td>2.100000e+06</td>\n",
       "      <td>12000.000000</td>\n",
       "      <td>71.000000</td>\n",
       "      <td>75.000000</td>\n",
       "      <td>75.000000</td>\n",
       "      <td>...</td>\n",
       "      <td>61.000000</td>\n",
       "      <td>67.000000</td>\n",
       "      <td>63.000000</td>\n",
       "      <td>66.000000</td>\n",
       "      <td>64.000000</td>\n",
       "      <td>14.000000</td>\n",
       "      <td>14.000000</td>\n",
       "      <td>14.000000</td>\n",
       "      <td>14.000000</td>\n",
       "      <td>14.000000</td>\n",
       "    </tr>\n",
       "    <tr>\n",
       "      <th>max</th>\n",
       "      <td>241489.000000</td>\n",
       "      <td>2291.000000</td>\n",
       "      <td>47.000000</td>\n",
       "      <td>205.000000</td>\n",
       "      <td>110.000000</td>\n",
       "      <td>1.230000e+08</td>\n",
       "      <td>565000.000000</td>\n",
       "      <td>94.000000</td>\n",
       "      <td>94.000000</td>\n",
       "      <td>96.000000</td>\n",
       "      <td>...</td>\n",
       "      <td>92.000000</td>\n",
       "      <td>96.000000</td>\n",
       "      <td>92.000000</td>\n",
       "      <td>92.000000</td>\n",
       "      <td>91.000000</td>\n",
       "      <td>91.000000</td>\n",
       "      <td>91.000000</td>\n",
       "      <td>95.000000</td>\n",
       "      <td>91.000000</td>\n",
       "      <td>90.000000</td>\n",
       "    </tr>\n",
       "  </tbody>\n",
       "</table>\n",
       "<p>8 rows × 52 columns</p>\n",
       "</div>"
      ],
      "text/plain": [
       "                  ID       special           age     height_cm     weight_kg  \\\n",
       "count   17741.000000  17741.000000  17741.000000  17741.000000  17741.000000   \n",
       "mean   207756.835522   1594.596133     25.088552    181.277944     75.397103   \n",
       "std     32421.331072    271.489781      4.616413      6.692701      6.993980   \n",
       "min        16.000000    728.000000     16.000000    155.000000     49.000000   \n",
       "25%    192621.000000   1451.000000     21.000000    177.000000     70.000000   \n",
       "50%    214175.000000   1634.000000     25.000000    181.000000     75.000000   \n",
       "75%    231624.000000   1785.000000     28.000000    186.000000     80.000000   \n",
       "max    241489.000000   2291.000000     47.000000    205.000000    110.000000   \n",
       "\n",
       "          eur_value       eur_wage       overall     potential           pac  \\\n",
       "count  1.774100e+04   17741.000000  17741.000000  17741.000000  17741.000000   \n",
       "mean   2.404317e+06   11667.887943     66.237134     71.217462     67.728144   \n",
       "std    5.377693e+06   23173.181633      6.960273      6.084166     10.964373   \n",
       "min    0.000000e+00    1000.000000     46.000000     46.000000     21.000000   \n",
       "25%    3.250000e+05    2000.000000     62.000000     67.000000     61.000000   \n",
       "50%    7.000000e+05    4000.000000     66.000000     71.000000     68.000000   \n",
       "75%    2.100000e+06   12000.000000     71.000000     75.000000     75.000000   \n",
       "max    1.230000e+08  565000.000000     94.000000     94.000000     96.000000   \n",
       "\n",
       "           ...          penalties     composure       marking  \\\n",
       "count      ...       17741.000000  17741.000000  17741.000000   \n",
       "mean       ...          48.984837     57.922327     44.097063   \n",
       "std        ...          15.774934     12.873242     21.563243   \n",
       "min        ...           5.000000      5.000000      4.000000   \n",
       "25%        ...          39.000000     51.000000     22.000000   \n",
       "50%        ...          50.000000     60.000000     48.000000   \n",
       "75%        ...          61.000000     67.000000     63.000000   \n",
       "max        ...          92.000000     96.000000     92.000000   \n",
       "\n",
       "       standing_tackle  sliding_tackle     gk_diving   gk_handling  \\\n",
       "count     17741.000000    17741.000000  17741.000000  17741.000000   \n",
       "mean         47.465081       45.579054     16.663886     16.446987   \n",
       "std          21.814726       21.468346     17.705665     16.929550   \n",
       "min           4.000000        4.000000      1.000000      1.000000   \n",
       "25%          26.000000       24.000000      8.000000      8.000000   \n",
       "50%          54.000000       52.000000     11.000000     11.000000   \n",
       "75%          66.000000       64.000000     14.000000     14.000000   \n",
       "max          92.000000       91.000000     91.000000     91.000000   \n",
       "\n",
       "         gk_kicking  gk_positioning   gk_reflexes  \n",
       "count  17741.000000    17741.000000  17741.000000  \n",
       "mean      16.322304       16.435263     16.802210  \n",
       "std       16.520619       17.033767     17.997396  \n",
       "min        1.000000        1.000000      1.000000  \n",
       "25%        8.000000        8.000000      8.000000  \n",
       "50%       11.000000       11.000000     11.000000  \n",
       "75%       14.000000       14.000000     14.000000  \n",
       "max       95.000000       91.000000     90.000000  \n",
       "\n",
       "[8 rows x 52 columns]"
      ]
     },
     "execution_count": 10,
     "metadata": {},
     "output_type": "execute_result"
    }
   ],
   "source": [
    "#some statistics\n",
    "FIFA2018.describe()"
   ]
  },
  {
   "cell_type": "code",
   "execution_count": 11,
   "metadata": {},
   "outputs": [],
   "source": [
    "#creating a list to correlate\n",
    "cor_dataset = ['age', 'height_cm', 'weight_kg', 'overall', 'potential']"
   ]
  },
  {
   "cell_type": "code",
   "execution_count": 12,
   "metadata": {},
   "outputs": [
    {
     "name": "stdout",
     "output_type": "stream",
     "text": [
      "age: 0.084194\n",
      "height_cm: 0.002254\n",
      "weight_kg: 0.037482\n",
      "overall: 0.629889\n",
      "potential: 0.587715\n"
     ]
    }
   ],
   "source": [
    "#loop checking correlation between Player value and chosen variables\n",
    "for i in cor_dataset:\n",
    "    related = FIFA2018['eur_value'].corr(FIFA2018[i])\n",
    "    print(\"%s: %f\" % (i,related))"
   ]
  },
  {
   "cell_type": "code",
   "execution_count": 13,
   "metadata": {},
   "outputs": [
    {
     "name": "stdout",
     "output_type": "stream",
     "text": [
      "age: 0.155772\n",
      "height_cm: 0.020513\n",
      "weight_kg: 0.060079\n",
      "overall: 0.599680\n",
      "potential: 0.519599\n"
     ]
    }
   ],
   "source": [
    "#loop checking correlation between Player wage and chosen variables\n",
    "for i in cor_dataset:\n",
    "    related = FIFA2018['eur_wage'].corr(FIFA2018[i])\n",
    "    print(\"%s: %f\" % (i, related))"
   ]
  },
  {
   "cell_type": "code",
   "execution_count": 14,
   "metadata": {},
   "outputs": [],
   "source": [
    "#new sets to another correlate\n",
    "young = FIFA2018[FIFA2018.age <= 30]\n",
    "old = FIFA2018[FIFA2018.age > 30]"
   ]
  },
  {
   "cell_type": "code",
   "execution_count": 15,
   "metadata": {},
   "outputs": [
    {
     "name": "stdout",
     "output_type": "stream",
     "text": [
      "age: 0.211672\n",
      "height_cm: 0.016770\n",
      "weight_kg: 0.059716\n",
      "overall: 0.606458\n",
      "potential: 0.515038\n"
     ]
    }
   ],
   "source": [
    "#loop checking correlation between young Player wage and chosen variables\n",
    "for i in cor_dataset:\n",
    "    related = young['eur_wage'].corr(young[i])\n",
    "    print(\"%s: %f\" % (i, related))"
   ]
  },
  {
   "cell_type": "code",
   "execution_count": 16,
   "metadata": {},
   "outputs": [
    {
     "name": "stdout",
     "output_type": "stream",
     "text": [
      "age: -0.105464\n",
      "height_cm: 0.031677\n",
      "weight_kg: 0.037124\n",
      "overall: 0.617977\n",
      "potential: 0.617977\n"
     ]
    }
   ],
   "source": [
    "#loop checking correlation between old Player wage and chosen variables\n",
    "for i in cor_dataset:\n",
    "    related = old['eur_wage'].corr(old[i])\n",
    "    print(\"%s: %f\" % (i, related))"
   ]
  },
  {
   "cell_type": "code",
   "execution_count": 17,
   "metadata": {},
   "outputs": [
    {
     "name": "stdout",
     "output_type": "stream",
     "text": [
      "age: 0.170017\n",
      "height_cm: 0.001145\n",
      "weight_kg: 0.045254\n",
      "overall: 0.648071\n",
      "potential: 0.583303\n"
     ]
    }
   ],
   "source": [
    "#loop checking correlation between young Player value and chosen variables\n",
    "for i in cor_dataset:\n",
    "    related = young['eur_value'].corr(young[i])\n",
    "    print(\"%s: %f\" % (i, related))"
   ]
  },
  {
   "cell_type": "code",
   "execution_count": 18,
   "metadata": {},
   "outputs": [
    {
     "name": "stdout",
     "output_type": "stream",
     "text": [
      "age: -0.178668\n",
      "height_cm: 0.022457\n",
      "weight_kg: 0.016008\n",
      "overall: 0.635670\n",
      "potential: 0.635670\n"
     ]
    }
   ],
   "source": [
    "#loop checking correlation between old Player value and chosen variables\n",
    "for i in cor_dataset:\n",
    "    related = old['eur_value'].corr(old[i])\n",
    "    print(\"%s: %f\" % (i, related))"
   ]
  },
  {
   "cell_type": "code",
   "execution_count": 19,
   "metadata": {},
   "outputs": [],
   "source": [
    "#adding new column with info if Player plays in one of the best league\n",
    "for i in FIFA2018.index:\n",
    "    if FIFA2018.loc[i,'league'] =='Spanish Primera División':\n",
    "        FIFA2018.loc[i,'Big_league_or_not'] = 1\n",
    "    elif FIFA2018.loc[i,'league'] == 'French Ligue 1':\n",
    "        FIFA2018.loc[i,'Big_league_or_not'] = 1\n",
    "    elif FIFA2018.loc[i,'league'] =='German Bundesliga':\n",
    "        FIFA2018.loc[i,'Big_league_or_not'] = 1\n",
    "    elif FIFA2018.loc[i,'league'] == 'English Premier League':\n",
    "        FIFA2018.loc[i,'Big_league_or_not'] = 1\n",
    "    elif FIFA2018.loc[i,'league'] == 'Italian Serie A':\n",
    "        FIFA2018.loc[i,'Big_league_or_not'] = 1\n",
    "    else:\n",
    "        FIFA2018.loc[i,'Big_league_or_not'] = 0"
   ]
  },
  {
   "cell_type": "code",
   "execution_count": 20,
   "metadata": {},
   "outputs": [
    {
     "name": "stdout",
     "output_type": "stream",
     "text": [
      "Wage: 0.486842\n",
      "Value: 0.443080\n"
     ]
    }
   ],
   "source": [
    "#impact of playing in one of TOP leagues for wage/value\n",
    "x1=FIFA2018['eur_wage'].corr(FIFA2018['Big_league_or_not'])\n",
    "x2=FIFA2018['eur_value'].corr(FIFA2018['Big_league_or_not'])\n",
    "print(\"%s: %f\" % ('Wage', x1))\n",
    "print(\"%s: %f\" % ('Value', x2))"
   ]
  },
  {
   "cell_type": "code",
   "execution_count": 21,
   "metadata": {},
   "outputs": [],
   "source": [
    "#changing chosen columns to lists\n",
    "s = list(FIFA2018['name'])\n",
    "p = list(FIFA2018['eur_value'])"
   ]
  },
  {
   "cell_type": "code",
   "execution_count": 22,
   "metadata": {},
   "outputs": [],
   "source": [
    "#creating dictionary\n",
    "dicts = {}\n",
    "col = FIFA2018['name']\n",
    "for i in col.index:\n",
    "    for j in col:\n",
    "        if j not in dicts.keys():\n",
    "            dicts[j] = p[i]\n",
    "            i = i + 1"
   ]
  },
  {
   "cell_type": "code",
   "execution_count": 23,
   "metadata": {},
   "outputs": [
    {
     "data": {
      "text/plain": [
       "123000000.0"
      ]
     },
     "execution_count": 23,
     "metadata": {},
     "output_type": "execute_result"
    }
   ],
   "source": [
    "#checking\n",
    "dicts['Neymar']"
   ]
  },
  {
   "cell_type": "code",
   "execution_count": 24,
   "metadata": {},
   "outputs": [],
   "source": [
    "#sort by value\n",
    "FIFA2018 = FIFA2018.sort_values(by=['eur_value'])"
   ]
  },
  {
   "cell_type": "code",
   "execution_count": 25,
   "metadata": {},
   "outputs": [
    {
     "data": {
      "text/plain": [
       "3105         0.0\n",
       "17990        0.0\n",
       "2199         0.0\n",
       "17628        0.0\n",
       "7734         0.0\n",
       "3272         0.0\n",
       "16007    10000.0\n",
       "17598    10000.0\n",
       "17553    10000.0\n",
       "16366    10000.0\n",
       "Name: eur_value, dtype: float64"
      ]
     },
     "execution_count": 25,
     "metadata": {},
     "output_type": "execute_result"
    }
   ],
   "source": [
    "#first 10 rows\n",
    "FIFA2018['eur_value'].head(10)"
   ]
  },
  {
   "cell_type": "code",
   "execution_count": 26,
   "metadata": {},
   "outputs": [],
   "source": [
    "#drop rows with euro value = 0\n",
    "FIFA2018 = FIFA2018.drop([3105, 17990, 2199, 17628, 7734, 3272], axis=0)"
   ]
  },
  {
   "cell_type": "code",
   "execution_count": 27,
   "metadata": {},
   "outputs": [],
   "source": [
    "#this function let chose any player(d) and return amount of players(sorted from cheapest to most expensive) which you can buy at the player's (d) price\n",
    "def f1(data, d):\n",
    "    selector = (FIFA2018['eur_value'].cumsum() <= d)\n",
    "    num_afforded_players = len(FIFA2018[selector])\n",
    "    return num_afforded_players"
   ]
  },
  {
   "cell_type": "code",
   "execution_count": 28,
   "metadata": {},
   "outputs": [
    {
     "data": {
      "text/plain": [
       "1238"
      ]
     },
     "execution_count": 28,
     "metadata": {},
     "output_type": "execute_result"
    }
   ],
   "source": [
    "#So, python says that for 1 Cristiano Ronaldo we can buy 1238 other players(sorted ascending by value). Impresive!\n",
    "f1(FIFA2018, dicts['Cristiano Ronaldo'])"
   ]
  },
  {
   "cell_type": "code",
   "execution_count": null,
   "metadata": {},
   "outputs": [],
   "source": []
  }
 ],
 "metadata": {
  "kernelspec": {
   "display_name": "Python 3",
   "language": "python",
   "name": "python3"
  },
  "language_info": {
   "codemirror_mode": {
    "name": "ipython",
    "version": 3
   },
   "file_extension": ".py",
   "mimetype": "text/x-python",
   "name": "python",
   "nbconvert_exporter": "python",
   "pygments_lexer": "ipython3",
   "version": "3.6.4"
  }
 },
 "nbformat": 4,
 "nbformat_minor": 2
}
